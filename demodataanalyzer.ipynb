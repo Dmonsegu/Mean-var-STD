{
 "cells": [
  {
   "cell_type": "code",
   "execution_count": 4,
   "id": "df1f1a3c",
   "metadata": {},
   "outputs": [
    {
     "name": "stdout",
     "output_type": "stream",
     "text": [
      "{'mean': [[3.0, 4.0, 5.0], <built-in method tolist of numpy.ndarray object at 0x000001F4B89F5DB0>, 4.0], 'variance': [[3.0, 4.0, 5.0], <built-in method tolist of numpy.ndarray object at 0x000001F4AC657F90>, 4.0], 'standard deviation': [[3.0, 4.0, 5.0], <built-in method tolist of numpy.ndarray object at 0x000001F4AC657B10>, 4.0], 'max': [[3.0, 4.0, 5.0], <built-in method tolist of numpy.ndarray object at 0x000001F4AC6E06F0>, 4.0], 'min': [[3.0, 4.0, 5.0], <built-in method tolist of numpy.ndarray object at 0x000001F4AC6E00F0>, 4.0], 'sum': [[3.0, 4.0, 5.0], <built-in method tolist of numpy.ndarray object at 0x000001F4AC6E0150>, 4.0]}\n"
     ]
    }
   ],
   "source": [
    "import numpy as np\n",
    "def calculate(list):\n",
    "\n",
    "    if len(list) != 9:\n",
    "        raise ValueError(\"list must contain nine numbers.\")\n",
    "\n",
    "    list = np.array(list).reshape((3,3))\n",
    "\n",
    "    calculations = {}\n",
    "\n",
    "    calculations['mean'] = [list.mean(axis=0).tolist(),list.mean(axis= 1).tolist, np.mean(list).tolist()]\n",
    "    calculations['variance'] = [list.mean(axis=0).tolist(),list.mean(axis= 1).tolist, np.mean(list).tolist()]\n",
    "    calculations['standard deviation'] = [list.mean(axis=0).tolist(),list.mean(axis= 1).tolist, np.mean(list).tolist()]\n",
    "    calculations['max'] = [list.mean(axis=0).tolist(),list.mean(axis= 1).tolist, np.mean(list).tolist()]\n",
    "    calculations['min'] = [list.mean(axis=0).tolist(),list.mean(axis= 1).tolist, np.mean(list).tolist()]\n",
    "    calculations['sum'] = [list.mean(axis=0).tolist(),list.mean(axis= 1).tolist, np.mean(list).tolist()]\n",
    "\n",
    "\n",
    "\n",
    "    return calculations \n",
    "print(calculate([0,1,2,3,4,5,6,7,8]))"
   ]
  },
  {
   "cell_type": "code",
   "execution_count": null,
   "id": "ebbec0c5",
   "metadata": {},
   "outputs": [],
   "source": []
  }
 ],
 "metadata": {
  "kernelspec": {
   "display_name": "Python 3 (ipykernel)",
   "language": "python",
   "name": "python3"
  },
  "language_info": {
   "codemirror_mode": {
    "name": "ipython",
    "version": 3
   },
   "file_extension": ".py",
   "mimetype": "text/x-python",
   "name": "python",
   "nbconvert_exporter": "python",
   "pygments_lexer": "ipython3",
   "version": "3.9.13"
  }
 },
 "nbformat": 4,
 "nbformat_minor": 5
}
